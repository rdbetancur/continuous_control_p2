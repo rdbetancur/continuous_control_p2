{
 "cells": [
  {
   "cell_type": "markdown",
   "metadata": {},
   "source": [
    "Continuous Solution\n",
    "---"
   ]
  },
  {
   "cell_type": "markdown",
   "metadata": {},
   "source": [
    "## 1. Import the Necessary Packages"
   ]
  },
  {
   "cell_type": "code",
   "execution_count": 1,
   "metadata": {},
   "outputs": [],
   "source": [
    "from unityagents import UnityEnvironment\n",
    "\n",
    "import gym\n",
    "import random\n",
    "import torch\n",
    "import numpy as np\n",
    "from collections import deque\n",
    "from ddpg_agent import Agent\n",
    "from itertools import count\n",
    "import matplotlib.pyplot as plt\n",
    "%matplotlib inline"
   ]
  },
  {
   "cell_type": "markdown",
   "metadata": {},
   "source": [
    "## 2. Instantiate the Environment and agent"
   ]
  },
  {
   "cell_type": "code",
   "execution_count": 2,
   "metadata": {},
   "outputs": [
    {
     "name": "stderr",
     "output_type": "stream",
     "text": [
      "INFO:unityagents:\n",
      "'Academy' started successfully!\n",
      "Unity Academy name: Academy\n",
      "        Number of Brains: 1\n",
      "        Number of External Brains : 1\n",
      "        Lesson number : 0\n",
      "        Reset Parameters :\n",
      "\t\tgoal_speed -> 1.0\n",
      "\t\tgoal_size -> 5.0\n",
      "Unity brain name: ReacherBrain\n",
      "        Number of Visual Observations (per agent): 0\n",
      "        Vector Observation space type: continuous\n",
      "        Vector Observation space size (per agent): 33\n",
      "        Number of stacked Vector Observation: 1\n",
      "        Vector Action space type: continuous\n",
      "        Vector Action space size (per agent): 4\n",
      "        Vector Action descriptions: , , , \n"
     ]
    }
   ],
   "source": [
    "env = UnityEnvironment(file_name='Reacher.app')\n",
    "\n",
    "# get the default brain\n",
    "brain_name = env.brain_names[0]\n",
    "brain = env.brains[brain_name]"
   ]
  },
  {
   "cell_type": "markdown",
   "metadata": {},
   "source": [
    "## 3. Examine the State and Action Spaces"
   ]
  },
  {
   "cell_type": "code",
   "execution_count": 3,
   "metadata": {},
   "outputs": [
    {
     "name": "stdout",
     "output_type": "stream",
     "text": [
      "Number of agents: 20\n",
      "Size of each action: 4\n",
      "There are 20 agents. Each observes a state with length: 33\n",
      "The state for the first agent looks like: [ 0.00000000e+00 -4.00000000e+00  0.00000000e+00  1.00000000e+00\n",
      " -0.00000000e+00 -0.00000000e+00 -4.37113883e-08  0.00000000e+00\n",
      "  0.00000000e+00  0.00000000e+00  0.00000000e+00  0.00000000e+00\n",
      "  0.00000000e+00  0.00000000e+00 -1.00000000e+01  0.00000000e+00\n",
      "  1.00000000e+00 -0.00000000e+00 -0.00000000e+00 -4.37113883e-08\n",
      "  0.00000000e+00  0.00000000e+00  0.00000000e+00  0.00000000e+00\n",
      "  0.00000000e+00  0.00000000e+00  5.75471878e+00 -1.00000000e+00\n",
      "  5.55726624e+00  0.00000000e+00  1.00000000e+00  0.00000000e+00\n",
      " -1.68164849e-01]\n"
     ]
    }
   ],
   "source": [
    "# reset the environment\n",
    "env_info = env.reset(train_mode=True)[brain_name]\n",
    "\n",
    "# number of agents\n",
    "num_agents = len(env_info.agents)\n",
    "print('Number of agents:', num_agents)\n",
    "\n",
    "# size of each action\n",
    "action_size = brain.vector_action_space_size\n",
    "print('Size of each action:', action_size)\n",
    "\n",
    "# examine the state space \n",
    "states = env_info.vector_observations\n",
    "state_size = states.shape[1]\n",
    "print('There are {} agents. Each observes a state with length: {}'.format(states.shape[0], state_size))\n",
    "print('The state for the first agent looks like:', states[0])"
   ]
  },
  {
   "cell_type": "markdown",
   "metadata": {},
   "source": [
    "## 4. Take random actions in the environment"
   ]
  },
  {
   "cell_type": "code",
   "execution_count": 4,
   "metadata": {},
   "outputs": [
    {
     "name": "stdout",
     "output_type": "stream",
     "text": [
      "Total score (averaged over agents) this episode: 0.1254999971948564\n"
     ]
    }
   ],
   "source": [
    "env_info = env.reset(train_mode=False)[brain_name]     # reset the environment    \n",
    "states = env_info.vector_observations                  # get the current state (for each agent)\n",
    "scores = np.zeros(num_agents)                          # initialize the score (for each agent)\n",
    "while True:\n",
    "    actions = np.random.randn(num_agents, action_size) # select an action (for each agent)\n",
    "    actions = np.clip(actions, -1, 1)                  # all actions between -1 and 1\n",
    "    env_info = env.step(actions)[brain_name]           # send all actions to tne environment\n",
    "    next_states = env_info.vector_observations         # get next state (for each agent)\n",
    "    rewards = env_info.rewards                         # get reward (for each agent)\n",
    "    dones = env_info.local_done                        # see if episode finished\n",
    "    scores += env_info.rewards                         # update the score (for each agent)\n",
    "    states = next_states                               # roll over states to next time step\n",
    "    if np.any(dones):                                  # exit loop if episode finished\n",
    "        break\n",
    "print('Total score (averaged over agents) this episode: {}'.format(np.mean(scores)))"
   ]
  },
  {
   "cell_type": "markdown",
   "metadata": {},
   "source": [
    "## 5. Train the agent with DDPG"
   ]
  },
  {
   "cell_type": "code",
   "execution_count": 5,
   "metadata": {},
   "outputs": [
    {
     "name": "stdout",
     "output_type": "stream",
     "text": [
      "Episode 1, Average Score: 0.02, Max Score: 0.10, Min Score: 0.00\n",
      "Episode 2, Average Score: 0.11, Max Score: 0.82, Min Score: 0.00\n",
      "Episode 3, Average Score: 0.14, Max Score: 1.75, Min Score: 0.00\n",
      "Episode 4, Average Score: 0.16, Max Score: 0.97, Min Score: 0.00\n",
      "Episode 5, Average Score: 0.18, Max Score: 0.93, Min Score: 0.00\n",
      "Episode 6, Average Score: 0.22, Max Score: 1.00, Min Score: 0.04\n",
      "Episode 7, Average Score: 0.26, Max Score: 1.01, Min Score: 0.02\n",
      "Episode 8, Average Score: 0.26, Max Score: 0.99, Min Score: 0.00\n",
      "Episode 9, Average Score: 0.31, Max Score: 1.21, Min Score: 0.19\n",
      "Episode 10, Average Score: 0.34, Max Score: 1.08, Min Score: 0.06\n",
      "\tAverage Score: 0.34\n",
      "Episode 11, Average Score: 0.41, Max Score: 1.54, Min Score: 0.22\n",
      "Episode 12, Average Score: 0.46, Max Score: 1.30, Min Score: 0.00\n",
      "Episode 13, Average Score: 0.54, Max Score: 3.03, Min Score: 0.26\n",
      "Episode 14, Average Score: 0.63, Max Score: 1.97, Min Score: 0.22\n",
      "Episode 15, Average Score: 0.73, Max Score: 2.63, Min Score: 0.36\n",
      "Episode 16, Average Score: 0.77, Max Score: 1.61, Min Score: 0.17\n",
      "Episode 17, Average Score: 0.83, Max Score: 1.87, Min Score: 0.15\n",
      "Episode 18, Average Score: 0.92, Max Score: 2.12, Min Score: 0.31\n",
      "Episode 19, Average Score: 0.95, Max Score: 2.06, Min Score: 0.14\n",
      "Episode 20, Average Score: 0.99, Max Score: 1.96, Min Score: 0.10\n",
      "\tAverage Score: 0.99\n",
      "Episode 21, Average Score: 1.02, Max Score: 1.89, Min Score: 0.24\n",
      "Episode 22, Average Score: 1.06, Max Score: 2.54, Min Score: 0.00\n",
      "Episode 23, Average Score: 1.07, Max Score: 2.53, Min Score: 0.51\n",
      "Episode 24, Average Score: 1.07, Max Score: 2.66, Min Score: 0.29\n",
      "Episode 25, Average Score: 1.05, Max Score: 2.47, Min Score: 0.30\n",
      "Episode 26, Average Score: 1.10, Max Score: 3.17, Min Score: 0.38\n",
      "Episode 27, Average Score: 1.14, Max Score: 2.59, Min Score: 0.09\n",
      "Episode 28, Average Score: 1.19, Max Score: 3.58, Min Score: 0.40\n",
      "Episode 29, Average Score: 1.29, Max Score: 4.33, Min Score: 0.65\n",
      "Episode 30, Average Score: 1.39, Max Score: 5.96, Min Score: 0.37\n",
      "\tAverage Score: 1.39\n",
      "Episode 31, Average Score: 1.53, Max Score: 6.98, Min Score: 1.08\n",
      "Episode 32, Average Score: 1.69, Max Score: 4.27, Min Score: 0.98\n",
      "Episode 33, Average Score: 1.84, Max Score: 6.23, Min Score: 0.64\n",
      "Episode 34, Average Score: 1.96, Max Score: 4.33, Min Score: 0.11\n",
      "Episode 35, Average Score: 2.00, Max Score: 3.47, Min Score: 0.23\n",
      "Episode 36, Average Score: 2.09, Max Score: 4.31, Min Score: 0.64\n",
      "Episode 37, Average Score: 2.17, Max Score: 4.93, Min Score: 0.70\n",
      "Episode 38, Average Score: 2.21, Max Score: 3.89, Min Score: 0.41\n",
      "Episode 39, Average Score: 2.22, Max Score: 4.68, Min Score: 0.22\n",
      "Episode 40, Average Score: 2.28, Max Score: 4.16, Min Score: 1.00\n",
      "\tAverage Score: 2.28\n",
      "Episode 41, Average Score: 2.26, Max Score: 5.15, Min Score: 0.66\n",
      "Episode 42, Average Score: 2.36, Max Score: 8.76, Min Score: 0.94\n",
      "Episode 43, Average Score: 2.41, Max Score: 5.10, Min Score: 0.56\n",
      "Episode 44, Average Score: 2.56, Max Score: 8.82, Min Score: 0.87\n",
      "Episode 45, Average Score: 2.72, Max Score: 5.61, Min Score: 0.99\n",
      "Episode 46, Average Score: 2.87, Max Score: 5.71, Min Score: 1.44\n",
      "Episode 47, Average Score: 2.96, Max Score: 5.39, Min Score: 0.99\n",
      "Episode 48, Average Score: 3.06, Max Score: 4.64, Min Score: 0.65\n",
      "Episode 49, Average Score: 3.18, Max Score: 6.51, Min Score: 1.56\n",
      "Episode 50, Average Score: 3.30, Max Score: 5.85, Min Score: 1.19\n",
      "\tAverage Score: 3.30\n",
      "Episode 51, Average Score: 3.44, Max Score: 6.11, Min Score: 0.00\n",
      "Episode 52, Average Score: 3.37, Max Score: 5.11, Min Score: 0.97\n",
      "Episode 53, Average Score: 3.45, Max Score: 7.74, Min Score: 1.83\n",
      "Episode 54, Average Score: 3.50, Max Score: 6.44, Min Score: 1.86\n",
      "Episode 55, Average Score: 3.61, Max Score: 7.35, Min Score: 1.82\n",
      "Episode 56, Average Score: 3.71, Max Score: 8.56, Min Score: 2.36\n",
      "Episode 57, Average Score: 4.02, Max Score: 8.47, Min Score: 3.47\n",
      "Episode 58, Average Score: 4.29, Max Score: 8.73, Min Score: 3.12\n",
      "Episode 59, Average Score: 4.61, Max Score: 10.76, Min Score: 2.84\n",
      "Episode 60, Average Score: 4.95, Max Score: 11.97, Min Score: 4.97\n",
      "\tAverage Score: 4.95\n",
      "Episode 61, Average Score: 5.44, Max Score: 12.31, Min Score: 3.77\n",
      "Episode 62, Average Score: 5.96, Max Score: 12.34, Min Score: 4.96\n",
      "Episode 63, Average Score: 6.42, Max Score: 12.95, Min Score: 4.14\n",
      "Episode 64, Average Score: 6.82, Max Score: 11.58, Min Score: 3.08\n",
      "Episode 65, Average Score: 7.35, Max Score: 14.89, Min Score: 3.45\n",
      "Episode 66, Average Score: 8.06, Max Score: 20.26, Min Score: 6.78\n",
      "Episode 67, Average Score: 8.56, Max Score: 14.30, Min Score: 7.20\n",
      "Episode 68, Average Score: 9.36, Max Score: 24.12, Min Score: 7.15\n",
      "Episode 69, Average Score: 10.24, Max Score: 22.76, Min Score: 10.31\n",
      "Episode 70, Average Score: 11.25, Max Score: 26.04, Min Score: 10.35\n",
      "\tAverage Score: 11.25\n",
      "Episode 71, Average Score: 12.24, Max Score: 27.92, Min Score: 12.07\n",
      "Episode 72, Average Score: 13.25, Max Score: 26.43, Min Score: 10.80\n",
      "Episode 73, Average Score: 14.07, Max Score: 21.31, Min Score: 9.61\n",
      "Episode 74, Average Score: 14.92, Max Score: 23.16, Min Score: 9.99\n",
      "Episode 75, Average Score: 15.88, Max Score: 26.26, Min Score: 7.74\n",
      "Episode 76, Average Score: 16.75, Max Score: 26.66, Min Score: 5.28\n",
      "Episode 77, Average Score: 18.10, Max Score: 34.13, Min Score: 16.70\n",
      "Episode 78, Average Score: 19.18, Max Score: 29.83, Min Score: 19.61\n",
      "Episode 79, Average Score: 20.35, Max Score: 33.56, Min Score: 20.74\n",
      "Episode 80, Average Score: 21.47, Max Score: 36.57, Min Score: 21.23\n",
      "\tAverage Score: 21.47\n",
      "Episode 81, Average Score: 22.49, Max Score: 33.38, Min Score: 18.87\n",
      "Episode 82, Average Score: 23.92, Max Score: 37.58, Min Score: 26.66\n",
      "Episode 83, Average Score: 25.50, Max Score: 36.25, Min Score: 28.33\n",
      "Episode 84, Average Score: 27.25, Max Score: 37.79, Min Score: 25.52\n",
      "Episode 85, Average Score: 28.83, Max Score: 38.08, Min Score: 29.95\n",
      "Episode 86, Average Score: 30.29, Max Score: 38.51, Min Score: 29.12\n",
      "\n",
      "Congratulations! Environment solved in 86 episodes!\tAverage Score: 30.29\n",
      "Episode 87, Average Score: 31.41, Max Score: 39.37, Min Score: 32.04\n",
      "Episode 88, Average Score: 32.53, Max Score: 39.44, Min Score: 32.44\n",
      "Episode 89, Average Score: 33.54, Max Score: 39.57, Min Score: 32.02\n",
      "Episode 90, Average Score: 34.26, Max Score: 38.74, Min Score: 30.93\n",
      "\tAverage Score: 34.26\n",
      "Episode 91, Average Score: 35.18, Max Score: 39.45, Min Score: 34.71\n",
      "Episode 92, Average Score: 35.54, Max Score: 39.56, Min Score: 31.44\n",
      "Episode 93, Average Score: 36.02, Max Score: 39.02, Min Score: 33.63\n",
      "Episode 94, Average Score: 36.33, Max Score: 39.50, Min Score: 26.11\n",
      "Episode 95, Average Score: 36.48, Max Score: 39.10, Min Score: 31.56\n",
      "Episode 96, Average Score: 36.64, Max Score: 39.29, Min Score: 30.65\n",
      "Episode 97, Average Score: 36.82, Max Score: 39.46, Min Score: 33.36\n",
      "Episode 98, Average Score: 37.09, Max Score: 39.53, Min Score: 36.56\n",
      "Episode 99, Average Score: 37.27, Max Score: 39.50, Min Score: 36.39\n",
      "Episode 100, Average Score: 37.59, Max Score: 39.58, Min Score: 38.04\n",
      "\tAverage Score: 37.59\n",
      "Episode 101, Average Score: 37.74, Max Score: 39.58, Min Score: 37.09\n",
      "Episode 102, Average Score: 38.00, Max Score: 39.60, Min Score: 36.14\n",
      "Episode 103, Average Score: 38.16, Max Score: 39.55, Min Score: 37.97\n",
      "Episode 104, Average Score: 38.35, Max Score: 39.63, Min Score: 37.69\n",
      "Episode 105, Average Score: 38.57, Max Score: 39.58, Min Score: 37.87\n",
      "Episode 106, Average Score: 38.83, Max Score: 39.60, Min Score: 38.05\n",
      "Episode 107, Average Score: 38.97, Max Score: 39.61, Min Score: 37.59\n",
      "Episode 108, Average Score: 39.02, Max Score: 39.63, Min Score: 36.81\n",
      "Episode 109, Average Score: 39.07, Max Score: 39.64, Min Score: 38.63\n",
      "Episode 110, Average Score: 39.08, Max Score: 39.61, Min Score: 38.41\n",
      "\tAverage Score: 39.08\n",
      "Episode 111, Average Score: 39.10, Max Score: 39.55, Min Score: 38.19\n",
      "Episode 112, Average Score: 39.15, Max Score: 39.61, Min Score: 38.40\n",
      "Episode 113, Average Score: 39.16, Max Score: 39.66, Min Score: 37.37\n",
      "Episode 114, Average Score: 39.18, Max Score: 39.65, Min Score: 38.07\n",
      "Episode 115, Average Score: 39.20, Max Score: 39.65, Min Score: 38.35\n",
      "Episode 116, Average Score: 39.23, Max Score: 39.64, Min Score: 38.72\n",
      "Episode 117, Average Score: 39.25, Max Score: 39.64, Min Score: 37.12\n"
     ]
    },
    {
     "name": "stdout",
     "output_type": "stream",
     "text": [
      "Episode 118, Average Score: 39.24, Max Score: 39.63, Min Score: 36.52\n",
      "Episode 119, Average Score: 39.24, Max Score: 39.65, Min Score: 38.41\n",
      "Episode 120, Average Score: 39.24, Max Score: 39.65, Min Score: 38.39\n",
      "\tAverage Score: 39.24\n",
      "Episode 121, Average Score: 39.25, Max Score: 39.54, Min Score: 38.89\n",
      "Episode 122, Average Score: 39.24, Max Score: 39.61, Min Score: 38.30\n",
      "Episode 123, Average Score: 39.25, Max Score: 39.63, Min Score: 37.79\n",
      "Episode 124, Average Score: 39.21, Max Score: 39.56, Min Score: 34.82\n",
      "Episode 125, Average Score: 39.20, Max Score: 39.62, Min Score: 36.54\n",
      "Episode 126, Average Score: 39.19, Max Score: 39.62, Min Score: 38.28\n",
      "Episode 127, Average Score: 39.16, Max Score: 39.63, Min Score: 36.65\n",
      "Episode 128, Average Score: 39.16, Max Score: 39.62, Min Score: 38.08\n",
      "Episode 129, Average Score: 39.15, Max Score: 39.62, Min Score: 37.82\n",
      "Episode 130, Average Score: 39.12, Max Score: 39.64, Min Score: 36.89\n",
      "\tAverage Score: 39.12\n",
      "Episode 131, Average Score: 39.08, Max Score: 39.64, Min Score: 37.67\n",
      "Episode 132, Average Score: 38.94, Max Score: 39.46, Min Score: 30.13\n",
      "Episode 133, Average Score: 38.80, Max Score: 39.54, Min Score: 32.09\n",
      "Episode 134, Average Score: 38.81, Max Score: 39.60, Min Score: 34.85\n",
      "Episode 135, Average Score: 38.81, Max Score: 39.59, Min Score: 37.72\n",
      "Episode 136, Average Score: 38.79, Max Score: 39.62, Min Score: 37.87\n",
      "Episode 137, Average Score: 38.76, Max Score: 39.63, Min Score: 34.80\n",
      "Episode 138, Average Score: 38.75, Max Score: 39.61, Min Score: 37.83\n",
      "Episode 139, Average Score: 38.66, Max Score: 39.58, Min Score: 36.31\n",
      "Episode 140, Average Score: 38.59, Max Score: 39.58, Min Score: 35.29\n",
      "\tAverage Score: 38.59\n",
      "Episode 141, Average Score: 38.54, Max Score: 39.57, Min Score: 37.13\n",
      "Episode 142, Average Score: 38.60, Max Score: 39.59, Min Score: 31.46\n",
      "Episode 143, Average Score: 38.63, Max Score: 39.61, Min Score: 33.74\n",
      "Episode 144, Average Score: 38.65, Max Score: 39.59, Min Score: 38.12\n",
      "Episode 145, Average Score: 38.53, Max Score: 39.50, Min Score: 34.43\n",
      "Episode 146, Average Score: 38.48, Max Score: 39.63, Min Score: 36.58\n",
      "Episode 147, Average Score: 38.52, Max Score: 39.69, Min Score: 36.38\n",
      "Episode 148, Average Score: 38.39, Max Score: 39.53, Min Score: 35.02\n",
      "Episode 149, Average Score: 38.40, Max Score: 39.64, Min Score: 34.24\n",
      "Episode 150, Average Score: 38.34, Max Score: 39.63, Min Score: 32.71\n",
      "\tAverage Score: 38.34\n",
      "Episode 151, Average Score: 38.09, Max Score: 39.04, Min Score: 27.61\n",
      "Episode 152, Average Score: 38.09, Max Score: 39.59, Min Score: 35.33\n",
      "Episode 153, Average Score: 38.13, Max Score: 39.69, Min Score: 36.52\n",
      "Episode 154, Average Score: 38.02, Max Score: 39.49, Min Score: 35.07\n",
      "Episode 155, Average Score: 37.97, Max Score: 39.57, Min Score: 32.05\n",
      "Episode 156, Average Score: 37.84, Max Score: 39.06, Min Score: 35.62\n",
      "Episode 157, Average Score: 37.65, Max Score: 39.15, Min Score: 30.10\n",
      "Episode 158, Average Score: 37.50, Max Score: 39.55, Min Score: 29.18\n",
      "Episode 159, Average Score: 37.43, Max Score: 39.62, Min Score: 33.84\n",
      "Episode 160, Average Score: 37.34, Max Score: 38.90, Min Score: 30.73\n",
      "\tAverage Score: 37.34\n",
      "Episode 161, Average Score: 37.41, Max Score: 39.64, Min Score: 30.96\n",
      "Episode 162, Average Score: 37.24, Max Score: 39.01, Min Score: 33.90\n",
      "Episode 163, Average Score: 37.16, Max Score: 39.45, Min Score: 34.27\n",
      "Episode 164, Average Score: 37.22, Max Score: 39.51, Min Score: 36.99\n",
      "Episode 165, Average Score: 37.33, Max Score: 39.39, Min Score: 37.08\n",
      "Episode 166, Average Score: 37.29, Max Score: 39.42, Min Score: 32.17\n",
      "Episode 167, Average Score: 37.21, Max Score: 39.59, Min Score: 29.73\n",
      "Episode 168, Average Score: 37.32, Max Score: 39.46, Min Score: 33.69\n",
      "Episode 169, Average Score: 37.27, Max Score: 39.11, Min Score: 34.42\n",
      "Episode 170, Average Score: 37.36, Max Score: 39.46, Min Score: 32.08\n",
      "\tAverage Score: 37.36\n",
      "Episode 171, Average Score: 37.33, Max Score: 38.60, Min Score: 30.15\n",
      "Episode 172, Average Score: 37.40, Max Score: 39.60, Min Score: 33.32\n",
      "Episode 173, Average Score: 37.36, Max Score: 39.31, Min Score: 33.60\n",
      "Episode 174, Average Score: 37.31, Max Score: 39.30, Min Score: 35.20\n",
      "Episode 175, Average Score: 37.21, Max Score: 39.67, Min Score: 30.76\n",
      "Episode 176, Average Score: 37.16, Max Score: 38.99, Min Score: 30.41\n",
      "Episode 177, Average Score: 37.28, Max Score: 39.47, Min Score: 34.52\n",
      "Episode 178, Average Score: 37.08, Max Score: 39.15, Min Score: 30.56\n",
      "Episode 179, Average Score: 37.03, Max Score: 39.37, Min Score: 32.49\n",
      "Episode 180, Average Score: 36.92, Max Score: 39.20, Min Score: 31.36\n",
      "\tAverage Score: 36.92\n",
      "Episode 181, Average Score: 36.97, Max Score: 39.66, Min Score: 30.42\n",
      "Episode 182, Average Score: 36.88, Max Score: 39.42, Min Score: 33.46\n",
      "Episode 183, Average Score: 36.71, Max Score: 38.86, Min Score: 31.17\n",
      "Episode 184, Average Score: 36.51, Max Score: 38.54, Min Score: 32.04\n",
      "Episode 185, Average Score: 36.52, Max Score: 39.37, Min Score: 30.02\n",
      "Episode 186, Average Score: 36.52, Max Score: 39.04, Min Score: 33.32\n",
      "Episode 187, Average Score: 36.51, Max Score: 39.24, Min Score: 34.55\n",
      "Episode 188, Average Score: 36.58, Max Score: 39.31, Min Score: 29.41\n",
      "Episode 189, Average Score: 36.66, Max Score: 39.27, Min Score: 33.95\n",
      "Episode 190, Average Score: 36.79, Max Score: 39.43, Min Score: 31.22\n",
      "\tAverage Score: 36.79\n",
      "Episode 191, Average Score: 36.96, Max Score: 39.64, Min Score: 35.04\n",
      "Episode 192, Average Score: 37.00, Max Score: 39.51, Min Score: 27.28\n",
      "Episode 193, Average Score: 37.05, Max Score: 39.60, Min Score: 31.54\n",
      "Episode 194, Average Score: 37.25, Max Score: 39.57, Min Score: 31.80\n",
      "Episode 195, Average Score: 37.35, Max Score: 39.64, Min Score: 35.29\n",
      "Episode 196, Average Score: 37.55, Max Score: 39.58, Min Score: 37.08\n",
      "Episode 197, Average Score: 37.57, Max Score: 39.58, Min Score: 35.05\n",
      "Episode 198, Average Score: 37.80, Max Score: 39.59, Min Score: 35.52\n",
      "Episode 199, Average Score: 37.84, Max Score: 39.42, Min Score: 35.32\n",
      "Episode 200, Average Score: 37.83, Max Score: 39.65, Min Score: 34.24\n",
      "\tAverage Score: 37.83\n"
     ]
    }
   ],
   "source": [
    "agent = Agent(state_size=state_size, action_size=action_size, random_seed=15)\n",
    "\n",
    "def ddpg(n_episodes=200, print_every=10):\n",
    "    scores_deque = deque(maxlen=print_every)\n",
    "    scores_global = []\n",
    "    average_global = []\n",
    "    best_avg = -np.inf\n",
    "    solved = False\n",
    "        \n",
    "    for i_episode in range(1, n_episodes+1):\n",
    "        env_info = env.reset(train_mode=True)[brain_name]      # reset the environment    \n",
    "        states = env_info.vector_observations                  # get the current state (for each agent)\n",
    "        scores = np.zeros(num_agents)                          # initialize the score (for each agent)\n",
    "        agent.reset()\n",
    "        \n",
    "        score_average = 0\n",
    "        for t in count():\n",
    "            actions = agent.act(states, add_noise=True)\n",
    "            env_info = env.step(actions)[brain_name]           # send all actions to tne environment\n",
    "            next_states = env_info.vector_observations         # get next state (for each agent)\n",
    "            rewards = env_info.rewards                         # get reward (for each agent)\n",
    "            dones = env_info.local_done                        # see if episode finished\n",
    "            agent.step(states, actions, rewards, next_states, dones, t)\n",
    "            states = next_states                               # roll over states to next time step\n",
    "            scores += rewards                                  # update the score (for each agent)            \n",
    "            if np.any(dones):                                  # exit loop if episode finished\n",
    "                break\n",
    "        \n",
    "        score = np.mean(scores)\n",
    "        scores_deque.append(score)\n",
    "        score_average = np.mean(scores_deque)\n",
    "        scores_global.append(score)\n",
    "        average_global.append(score_average)\n",
    "                \n",
    "        print('\\rEpisode {}, Average Score: {:.2f}, Max Score: {:.2f}, Min Score: {:.2f}'\\\n",
    "              .format(i_episode, score_average, np.max(scores), np.min(scores)), end=\"\\n\")        \n",
    "        \n",
    "        if i_episode % print_every == 0:\n",
    "            print('\\tAverage Score: {:.2f}'.format(np.mean(scores_deque)), end=\"\\n\")  \n",
    "            \n",
    "        if score_average >= 30:\n",
    "            if not solved:\n",
    "                print('\\nCongratulations! Environment solved in {:d} episodes!\\tAverage Score: {:.2f}'.format(i_episode, score_average))\n",
    "                solved = True\n",
    "                torch.save(agent.actor_local.state_dict(), 'checkpoint_actor.pth')\n",
    "                torch.save(agent.critic_local.state_dict(), 'checkpoint_critic.pth')\n",
    "                    \n",
    "     \n",
    "    return scores_global, average_global\n",
    "\n",
    "scores, averages = ddpg()"
   ]
  },
  {
   "cell_type": "markdown",
   "metadata": {},
   "source": [
    "## 6. Plot the scores"
   ]
  },
  {
   "cell_type": "code",
   "execution_count": 6,
   "metadata": {},
   "outputs": [
    {
     "data": {
      "image/png": "[encoded data removed]",
      "text/plain": [
       "<Figure size 432x288 with 2 Axes>"
      ]
     },
     "metadata": {
      "needs_background": "light"
     },
     "output_type": "display_data"
    }
   ],
   "source": [
    "fig = plt.figure()\n",
    "plt.subplot(2, 1, 1)\n",
    "plt.plot(np.arange(1, len(scores)+1), scores)\n",
    "plt.ylabel('Score')\n",
    "plt.xlabel('Episode #')\n",
    "\n",
    "plt.subplot(2, 1, 2)\n",
    "plt.plot(np.arange(1, len(scores)+1), averages)\n",
    "plt.ylabel('Average Score')\n",
    "plt.xlabel('Episode #')\n",
    "plt.show()"
   ]
  },
  {
   "cell_type": "markdown",
   "metadata": {},
   "source": [
    "## 7. Test agent"
   ]
  },
  {
   "cell_type": "code",
   "execution_count": 7,
   "metadata": {},
   "outputs": [
    {
     "name": "stdout",
     "output_type": "stream",
     "text": [
      "Total score (averaged over agents) this episode: 33.93899924140423\n"
     ]
    }
   ],
   "source": [
    "agent.actor_local.load_state_dict(torch.load('checkpoint_actor.pth'))\n",
    "agent.critic_local.load_state_dict(torch.load('checkpoint_critic.pth'))\n",
    "\n",
    "env_info = env.reset(train_mode=False)[brain_name]     # reset the environment    \n",
    "states = env_info.vector_observations                  # get the current state (for each agent)\n",
    "scores = np.zeros(num_agents)                          # initialize the score (for each agent)\n",
    "while True:\n",
    "    actions = agent.act(states)                        # select an action (for each agent)\n",
    "    env_info = env.step(actions)[brain_name]           # send all actions to tne environment\n",
    "    next_states = env_info.vector_observations         # get next state (for each agent)\n",
    "    rewards = env_info.rewards                         # get reward (for each agent)\n",
    "    dones = env_info.local_done                        # see if episode finished\n",
    "    scores += env_info.rewards                         # update the score (for each agent)\n",
    "    states = next_states                               # roll over states to next time step\n",
    "    if np.any(dones):                                  # exit loop if episode finished\n",
    "        break\n",
    "print('Total score (averaged over agents) this episode: {}'.format(np.mean(scores)))"
   ]
  },
  {
   "cell_type": "markdown",
   "metadata": {},
   "source": [
    "## 8. Close the environment"
   ]
  },
  {
   "cell_type": "code",
   "execution_count": 8,
   "metadata": {},
   "outputs": [],
   "source": [
    "env.close()"
   ]
  },
  {
   "cell_type": "code",
   "execution_count": null,
   "metadata": {},
   "outputs": [],
   "source": []
  }
 ],
 "metadata": {
  "kernelspec": {
   "display_name": "Python 3",
   "language": "python",
   "name": "python3"
  },
  "language_info": {
   "codemirror_mode": {
    "name": "ipython",
    "version": 3
   },
   "file_extension": ".py",
   "mimetype": "text/x-python",
   "name": "python",
   "nbconvert_exporter": "python",
   "pygments_lexer": "ipython3",
   "version": "3.6.7"
  }
 },
 "nbformat": 4,
 "nbformat_minor": 2
}
